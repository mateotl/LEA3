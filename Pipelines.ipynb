{
 "cells": [
  {
   "cell_type": "markdown",
   "metadata": {},
   "source": []
  },
  {
   "cell_type": "code",
   "execution_count": null,
   "metadata": {},
   "outputs": [],
   "source": [
    "# prompt: mount drive y crear path para sys y para directorio de trabajo\n",
    "\n",
    "from google.colab import drive\n",
    "drive.mount('/content/drive')\n",
    "\n",
    "import sys\n",
    "import os\n",
    "\n",
    "# Define the path to your working directory in Google Drive\n",
    "path = \"/content/drive/My Drive/cod/LEA3_Seminario\"  # Replace with your actual directory\n",
    "\n",
    "\n",
    "sys.path.append(path) ### para importar archivo de funciones propias a través de import\n",
    "\n",
    "os.chdir(path) ### para que por defecto suba y descargue archivos partiendo de esa ruta\n",
    "\n",
    "     "
   ]
  }
 ],
 "metadata": {
  "language_info": {
   "name": "python"
  }
 },
 "nbformat": 4,
 "nbformat_minor": 2
}
